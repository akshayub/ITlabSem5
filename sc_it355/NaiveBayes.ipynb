{
 "cells": [
  {
   "cell_type": "code",
   "execution_count": 1,
   "metadata": {
    "collapsed": false
   },
   "outputs": [
    {
     "data": {
      "text/plain": [
       "'\\n@author : akshayub\\n'"
      ]
     },
     "execution_count": 1,
     "metadata": {},
     "output_type": "execute_result"
    }
   ],
   "source": [
    "'''\n",
    "@author : akshayub\n",
    "'''"
   ]
  },
  {
   "cell_type": "code",
   "execution_count": 7,
   "metadata": {
    "collapsed": false
   },
   "outputs": [],
   "source": [
    "import numpy as np\n",
    "import pandas as pd\n",
    "df = pd.read_csv('datasets/IRIS.csv')\n",
    "# print(df)\n",
    "x = df.as_matrix()\n",
    "y = x[:, -1:]\n",
    "x = x[:, :-1]"
   ]
  },
  {
   "cell_type": "code",
   "execution_count": 8,
   "metadata": {
    "collapsed": true
   },
   "outputs": [],
   "source": [
    "# this is used to return the x_train, x_test, y_train and y_test which are returned to the function calling it\n",
    "def return_kfold(k):\n",
    "    x_train = []\n",
    "    x_test = []\n",
    "    y_train = []\n",
    "    y_test = []\n",
    "    for i in range(len(x)):\n",
    "        if i%10 == k:\n",
    "            x_test.append(x[i])\n",
    "            y_test.append(y[i])\n",
    "        else:\n",
    "            x_train.append(x[i])\n",
    "            y_train.append(y[i])\n",
    "    return x_train, x_test, y_train, y_test"
   ]
  },
  {
   "cell_type": "code",
   "execution_count": 9,
   "metadata": {
    "collapsed": true
   },
   "outputs": [],
   "source": [
    "# this is used to calculate e^(-1/2((x-mew)/sigma)^2) part. It takes as input x, mew(mean) and sigma(sd)\n",
    "def get_exp(x, mean, sd):\n",
    "    return np.exp(-0.5 * np.power(((x-mean)/sd),2))\n",
    "\n",
    "\n",
    "# returns the mean of the list.Here list is passes as arr\n",
    "def get_mean(arr):\n",
    "    return sum(arr)/len(arr)\n",
    "\n",
    "\n",
    "# returns the standard deviation of the list. Here list is passed as arr\n",
    "def get_sd(arr):\n",
    "    mean = get_mean(arr)\n",
    "    return np.sqrt(sum([np.power((ele-mean), 2) for ele in arr])/(len(arr)-1))\n",
    "\n",
    "\n",
    "# Here I calculate the entire gaussian expression, i.e (1/(root(2)*pi))*(e^-1/2((x-mew/sigma)^2))\n",
    "def gaussian(arr, ele):\n",
    "    mean = get_mean(arr)\n",
    "    sd = get_sd(arr)\n",
    "    exp = get_exp(ele, mean, sd)\n",
    "    return exp/(np.sqrt(2*np.pi)*sd)"
   ]
  },
  {
   "cell_type": "code",
   "execution_count": 10,
   "metadata": {
    "collapsed": true
   },
   "outputs": [],
   "source": [
    "def naive_bayes_classifier():\n",
    "    overall_accuracy = 0\n",
    "    true_positive = 0\n",
    "    false_positive = 0\n",
    "    false_negative = 0\n",
    "    for i in range(10):\n",
    "        arr_yes = []\n",
    "        arr_no = []\n",
    "        x_train, x_test, y_train, y_test = return_kfold(i)  # here i get the x_train, x_test etc\n",
    "        total_yes = 0\n",
    "        total_no = 0\n",
    "        # Now we have the arrays having values corresponding to yes and no\n",
    "        for num, y in enumerate(y_train):  # here I enumerate the training data set to determine which X has a \"yes\" and which has a \"No\"\n",
    "            if y == 'Yes':\n",
    "                arr_yes.append(x_train[num])  # since num in y_train corresponds to same index as that in x_train, to get the corresponding x_train value, I use x_train[num]\n",
    "                total_yes += 1\n",
    "            else:\n",
    "                arr_no.append(x_train[num])  # So I am storing training data  corresponding to \"yes\" and \"no\" in two seperate arays i.e arr_yes and arr_no\n",
    "                total_no += 1\n",
    "        p_yes = total_yes / (total_yes + total_no)  # we calculate the probability of a yes\n",
    "        p_no = 1 - p_yes  # we calculate the probability of a no\n",
    "        # print(p_yes, p_no)\n",
    "        arr_yes = np.array(arr_yes)  # converting the array into a numpy array\n",
    "        arr_no = np.array(arr_no)\n",
    "        total_ans = 0\n",
    "        for test_num, ele in enumerate(x_test):\n",
    "            yes_prod = 1\n",
    "            no_prod = 1\n",
    "            # print(ele)\n",
    "            for col_num, col_ele in enumerate(ele):  # here col_num is index of the feature in the test data and col_ele is the value of the feature\n",
    "                # this is done for all the features, so the for loop\n",
    "                inter_arr = np.transpose(arr_yes[:, [col_num]])  # here we get set of all features for that particular index for which the output value is a \"yes\"\n",
    "                inter_arr = inter_arr.flatten()  # we store all features\n",
    "                yes_prod *= gaussian(inter_arr, col_ele)  # we calculate the probability that it is yes given that feature\n",
    "\n",
    "                inter_arr = np.transpose(arr_no[:, [col_num]])  # similar like how we do for a yes\n",
    "                inter_arr = inter_arr.flatten()\n",
    "                no_prod *= gaussian(inter_arr, col_ele)\n",
    "\n",
    "            yes_prod *= p_yes  # here we calculate the probability of a yes\n",
    "            no_prod *= p_no  # here we calculate the probability of a no\n",
    "\n",
    "            if yes_prod > no_prod:  # if product of yes is more that means the data set is expected to give \"yes\"\n",
    "                predict = \"Yes\"\n",
    "            else:\n",
    "                predict = \"No\"\n",
    "            if predict == y_test[test_num]:  # here the normal acuracy checking steps\n",
    "                total_ans += 1\n",
    "                if predict == \"Yes\":\n",
    "                    true_positive += 1\n",
    "            elif predict == \"Yes\":\n",
    "                false_positive += 1\n",
    "            else:\n",
    "                false_negative += 1\n",
    "                # print(predict, y_test[test_num])\n",
    "        print(\"Iteration: \" + str(i + 1) + \" Accuracy: \" + str(total_ans / len(x_test)))\n",
    "        overall_accuracy += (total_ans / len(x_test))\n",
    "    precision = true_positive / (true_positive + false_positive)\n",
    "    recall = true_positive / (true_positive + false_negative)\n",
    "    print(\n",
    "        \"Overall Accuracy: \" + str(overall_accuracy / 10) + \" Precison: \" + str(precision) + \" Recall: \" + str(recall))"
   ]
  },
  {
   "cell_type": "code",
   "execution_count": 11,
   "metadata": {
    "collapsed": false
   },
   "outputs": [
    {
     "ename": "IndexError",
     "evalue": "too many indices for array",
     "output_type": "error",
     "traceback": [
      "\u001b[0;31m---------------------------------------------------------------------------\u001b[0m",
      "\u001b[0;31mIndexError\u001b[0m                                Traceback (most recent call last)",
      "\u001b[0;32m<ipython-input-11-b499b80c198c>\u001b[0m in \u001b[0;36m<module>\u001b[0;34m()\u001b[0m\n\u001b[0;32m----> 1\u001b[0;31m \u001b[0mnaive_bayes_classifier\u001b[0m\u001b[0;34m(\u001b[0m\u001b[0;34m)\u001b[0m  \u001b[0;31m# running the naive bayes classifier\u001b[0m\u001b[0;34m\u001b[0m\u001b[0m\n\u001b[0m",
      "\u001b[0;32m<ipython-input-10-4f13f3878b32>\u001b[0m in \u001b[0;36mnaive_bayes_classifier\u001b[0;34m()\u001b[0m\n\u001b[1;32m     30\u001b[0m             \u001b[0;32mfor\u001b[0m \u001b[0mcol_num\u001b[0m\u001b[0;34m,\u001b[0m \u001b[0mcol_ele\u001b[0m \u001b[0;32min\u001b[0m \u001b[0menumerate\u001b[0m\u001b[0;34m(\u001b[0m\u001b[0mele\u001b[0m\u001b[0;34m)\u001b[0m\u001b[0;34m:\u001b[0m  \u001b[0;31m# here col_num is index of the feature in the test data and col_ele is the value of the feature\u001b[0m\u001b[0;34m\u001b[0m\u001b[0m\n\u001b[1;32m     31\u001b[0m                 \u001b[0;31m# this is done for all the features, so the for loop\u001b[0m\u001b[0;34m\u001b[0m\u001b[0;34m\u001b[0m\u001b[0m\n\u001b[0;32m---> 32\u001b[0;31m                 \u001b[0minter_arr\u001b[0m \u001b[0;34m=\u001b[0m \u001b[0mnp\u001b[0m\u001b[0;34m.\u001b[0m\u001b[0mtranspose\u001b[0m\u001b[0;34m(\u001b[0m\u001b[0marr_yes\u001b[0m\u001b[0;34m[\u001b[0m\u001b[0;34m:\u001b[0m\u001b[0;34m,\u001b[0m \u001b[0;34m[\u001b[0m\u001b[0mcol_num\u001b[0m\u001b[0;34m]\u001b[0m\u001b[0;34m]\u001b[0m\u001b[0;34m)\u001b[0m  \u001b[0;31m# here we get set of all features for that particular index for which the output value is a \"yes\"\u001b[0m\u001b[0;34m\u001b[0m\u001b[0m\n\u001b[0m\u001b[1;32m     33\u001b[0m                 \u001b[0minter_arr\u001b[0m \u001b[0;34m=\u001b[0m \u001b[0minter_arr\u001b[0m\u001b[0;34m.\u001b[0m\u001b[0mflatten\u001b[0m\u001b[0;34m(\u001b[0m\u001b[0;34m)\u001b[0m  \u001b[0;31m# we store all features\u001b[0m\u001b[0;34m\u001b[0m\u001b[0m\n\u001b[1;32m     34\u001b[0m                 \u001b[0myes_prod\u001b[0m \u001b[0;34m*=\u001b[0m \u001b[0mgaussian\u001b[0m\u001b[0;34m(\u001b[0m\u001b[0minter_arr\u001b[0m\u001b[0;34m,\u001b[0m \u001b[0mcol_ele\u001b[0m\u001b[0;34m)\u001b[0m  \u001b[0;31m# we calculate the probability that it is yes given that feature\u001b[0m\u001b[0;34m\u001b[0m\u001b[0m\n",
      "\u001b[0;31mIndexError\u001b[0m: too many indices for array"
     ]
    }
   ],
   "source": [
    "naive_bayes_classifier()  # running the naive bayes classifier"
   ]
  },
  {
   "cell_type": "code",
   "execution_count": null,
   "metadata": {
    "collapsed": true
   },
   "outputs": [],
   "source": []
  },
  {
   "cell_type": "code",
   "execution_count": null,
   "metadata": {
    "collapsed": true
   },
   "outputs": [],
   "source": []
  },
  {
   "cell_type": "code",
   "execution_count": null,
   "metadata": {
    "collapsed": true
   },
   "outputs": [],
   "source": []
  },
  {
   "cell_type": "code",
   "execution_count": null,
   "metadata": {
    "collapsed": true
   },
   "outputs": [],
   "source": []
  }
 ],
 "metadata": {
  "kernelspec": {
   "display_name": "Python 2",
   "language": "python",
   "name": "python2"
  },
  "language_info": {
   "codemirror_mode": {
    "name": "ipython",
    "version": 2
   },
   "file_extension": ".py",
   "mimetype": "text/x-python",
   "name": "python",
   "nbconvert_exporter": "python",
   "pygments_lexer": "ipython2",
   "version": "2.7.12"
  }
 },
 "nbformat": 4,
 "nbformat_minor": 2
}

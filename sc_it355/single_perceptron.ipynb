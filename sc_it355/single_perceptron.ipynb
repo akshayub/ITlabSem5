{
 "cells": [
  {
   "cell_type": "code",
   "execution_count": 1,
   "metadata": {
    "collapsed": false
   },
   "outputs": [],
   "source": [
    "import numpy as np\n",
    "import pandas as pd"
   ]
  },
  {
   "cell_type": "code",
   "execution_count": 2,
   "metadata": {
    "collapsed": true
   },
   "outputs": [],
   "source": [
    "def load_data(filename):\n",
    "    data = np.asarray(pd.read_csv(filename))\n",
    "    classes = set()\n",
    "    for _ in data:\n",
    "        classes.add(_[-1])\n",
    "    classes = dict(zip(classes, range(len(classes))))\n",
    "    np.random.shuffle(data)\n",
    "    return (data, classes)"
   ]
  },
  {
   "cell_type": "code",
   "execution_count": 3,
   "metadata": {
    "collapsed": true
   },
   "outputs": [],
   "source": [
    "def splitDataset(data, fold, test_data_size):\n",
    "    testStart = eachFold*test_data_size\n",
    "    testEnd = (eachFold+1)*test_data_size\n",
    "    \n",
    "    test = data[testStart:testEnd]\n",
    "    train = np.concatenate((data[:testStart], data[testEnd:]), axis = 0)\n",
    "    \n",
    "    return np.asarray(train), np.asarray(test)"
   ]
  },
  {
   "cell_type": "code",
   "execution_count": 4,
   "metadata": {
    "collapsed": false
   },
   "outputs": [],
   "source": [
    "def train(data, lr, weights, bias, classes, shouldBiasChange, iters=1):\n",
    "    for ___ in xrange(iters):\n",
    "        for each in data:\n",
    "            predicted_val = np.dot(each[:-1], weights) + bias\n",
    "#             print predicted_val, each[:-1], weights\n",
    "            predicted_val = int(np.clip(np.sign(predicted_val),0,1))\n",
    "            actual_val = classes[each[-1]]\n",
    "#             print predicted_val, '\\t',actual_val\n",
    "            error = predicted_val - actual_val\n",
    "            delW = lr * error * each[:-1]\n",
    "#             print error, delW\n",
    "            weights = weights - delW\n",
    "            if shouldBiasChange:\n",
    "                bias = bias - lr*error\n",
    "    return weights, bias"
   ]
  },
  {
   "cell_type": "code",
   "execution_count": 5,
   "metadata": {
    "collapsed": true
   },
   "outputs": [],
   "source": [
    "def test(data, weights, bias, classes):\n",
    "    tp = tn = fp = fn = 0\n",
    "    \n",
    "    for each in data:\n",
    "        predicted_val = np.dot(each[:-1], weights) + bias\n",
    "        predicted_val = int(np.clip(np.sign(predicted_val),0,1))\n",
    "\n",
    "        if (predicted_val == classes[each[-1]]):\n",
    "            if predicted_val == 1:\n",
    "                tp += 1\n",
    "            else:\n",
    "                tn += 1\n",
    "        else:\n",
    "            if predicted_val == 1:\n",
    "                fp += 1\n",
    "            else:\n",
    "                fn += 1\n",
    "    \n",
    "    accuracy = (tp + tn)*100/(tp + tn + fp + fn)\n",
    "    try:\n",
    "        precision = (tp)*100/(tp + fp)\n",
    "    except ZeroDivisionError:\n",
    "        precision = 0\n",
    "    try:\n",
    "        recall = (tp)*100/(tp + fn)\n",
    "    except ZeroDivisionError:\n",
    "        recall = 0\n",
    "    return (accuracy, precision, recall)"
   ]
  },
  {
   "cell_type": "code",
   "execution_count": 6,
   "metadata": {
    "collapsed": true
   },
   "outputs": [],
   "source": [
    "### Parameters\n",
    "\n",
    "# filename = 'datasets/IRIS.csv'\n",
    "filename = 'datasets/SPECTF_New.csv'\n",
    "bias = 1.0\n",
    "shouldBiasChange = False\n",
    "learning_rate = 0.1\n",
    "times_with_different_lrs = 1\n",
    "training_iterations = 500\n",
    "number_of_folds = 10"
   ]
  },
  {
   "cell_type": "code",
   "execution_count": 7,
   "metadata": {
    "collapsed": true
   },
   "outputs": [],
   "source": [
    "data, classes = load_data(filename)\n",
    "lr = learning_rate\n",
    "test_data_size = len(data)/number_of_folds\n",
    "\n",
    "features = data.shape[1] - 1\n",
    "# weights = np.random.rand(features)\n",
    "weights = np.asarray([1.0/(features+1)]*features)\n",
    "\n",
    "maxAccuracy = -float('inf')\n",
    "maxAccuracyLr = 0"
   ]
  },
  {
   "cell_type": "code",
   "execution_count": 8,
   "metadata": {
    "collapsed": false
   },
   "outputs": [
    {
     "name": "stdout",
     "output_type": "stream",
     "text": [
      "For learning rate 0.1\n",
      "\n",
      "Fold 1\tAccuracy : 63.000000\tPrecision : 100.000000\tRecall : 33.000000\n",
      "Fold 2\tAccuracy : 63.000000\tPrecision : 80.000000\tRecall : 57.000000\n",
      "Fold 3\tAccuracy : 63.000000\tPrecision : 100.000000\tRecall : 50.000000\n",
      "Fold 4\tAccuracy : 81.000000\tPrecision : 66.000000\tRecall : 100.000000\n",
      "Fold 5\tAccuracy : 72.000000\tPrecision : 50.000000\tRecall : 100.000000\n",
      "Fold 6\tAccuracy : 63.000000\tPrecision : 50.000000\tRecall : 50.000000\n",
      "Fold 7\tAccuracy : 72.000000\tPrecision : 100.000000\tRecall : 62.000000\n",
      "Fold 8\tAccuracy : 72.000000\tPrecision : 66.000000\tRecall : 80.000000\n",
      "Fold 9\tAccuracy : 90.000000\tPrecision : 80.000000\tRecall : 100.000000\n",
      "Fold 10\tAccuracy : 90.000000\tPrecision : 100.000000\tRecall : 83.000000\n",
      "\n",
      "Accuracy : 72.900000\tPrecision : 79.200000\tRecall : 71.500000\n",
      "    \n",
      "====================================================================================================\n",
      "Max Accuracy is 72.900000 for learning rate 0.1\n"
     ]
    }
   ],
   "source": [
    "for _ in range(times_with_different_lrs):\n",
    "    totalAccuracy = totalPrecision = totalRecall = 0\n",
    "    \n",
    "    print 'For learning rate %.1lf\\n' %lr\n",
    "    weights = np.asarray([1.0/(features+1)]*features)\n",
    "    \n",
    "    for eachFold in range(number_of_folds):\n",
    "        trainSet, testSet = splitDataset(data, eachFold, test_data_size)\n",
    "        weights, bias = train(trainSet, lr, weights, bias, classes, shouldBiasChange, training_iterations)\n",
    "        accuracy, precision, recall = test(testSet, weights, bias, classes)\n",
    "        \n",
    "        print 'Fold %d\\tAccuracy : %lf\\tPrecision : %lf\\tRecall : %lf' %(eachFold+1, accuracy, precision, recall)\n",
    "\n",
    "        totalAccuracy += accuracy\n",
    "        totalPrecision += precision\n",
    "        totalRecall += recall\n",
    "    \n",
    "    totalAccuracy /= float(number_of_folds)\n",
    "    totalPrecision /= float(number_of_folds)\n",
    "    totalRecall /= float(number_of_folds)\n",
    "    \n",
    "    print \"\"\"\n",
    "Accuracy : %lf\\tPrecision : %lf\\tRecall : %lf\n",
    "    \"\"\" %(totalAccuracy, totalPrecision, totalRecall)\n",
    "    \n",
    "    if totalAccuracy > maxAccuracy:\n",
    "        maxAccuracy = totalAccuracy\n",
    "        maxAccuracyLr = lr\n",
    "#     lr += 0.1\n",
    "    print '='*100\n",
    "print 'Max Accuracy is %lf for learning rate %0.1lf' %(maxAccuracy, maxAccuracyLr)"
   ]
  },
  {
   "cell_type": "code",
   "execution_count": null,
   "metadata": {
    "collapsed": true
   },
   "outputs": [],
   "source": []
  }
 ],
 "metadata": {
  "kernelspec": {
   "display_name": "Python 2",
   "language": "python",
   "name": "python2"
  },
  "language_info": {
   "codemirror_mode": {
    "name": "ipython",
    "version": 2
   },
   "file_extension": ".py",
   "mimetype": "text/x-python",
   "name": "python",
   "nbconvert_exporter": "python",
   "pygments_lexer": "ipython2",
   "version": "2.7.12"
  }
 },
 "nbformat": 4,
 "nbformat_minor": 2
}
